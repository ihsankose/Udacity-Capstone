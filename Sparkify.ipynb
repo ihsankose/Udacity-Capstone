{
 "cells": [
  {
   "cell_type": "markdown",
   "metadata": {},
   "source": [
    "# Sparkify Project Workspace\n",
    "This workspace contains a tiny subset (128MB) of the full dataset available (12GB). Feel free to use this workspace to build your project, or to explore a smaller subset with Spark before deploying your cluster on the cloud. Instructions for setting up your Spark cluster is included in the last lesson of the Extracurricular Spark Course content.\n",
    "\n",
    "You can follow the steps below to guide your data analysis and model building portion of this project."
   ]
  },
  {
   "cell_type": "code",
   "execution_count": 291,
   "metadata": {},
   "outputs": [],
   "source": [
    "# import libraries\n",
    "from pyspark.sql import SparkSession\n",
    "from pyspark.sql.functions import avg, col, concat, desc, explode, lit, min, max, split, udf, count\n",
    "from pyspark.sql.types import IntegerType\n",
    "\n",
    "from pyspark.ml import Pipeline\n",
    "from pyspark.ml.classification import LogisticRegression, RandomForestClassifier\n",
    "from pyspark.ml.evaluation import MulticlassClassificationEvaluator,BinaryClassificationEvaluator,Evaluator\n",
    "from pyspark.ml.feature import CountVectorizer, Normalizer, PCA, StandardScaler, StringIndexer, VectorAssembler\n",
    "from pyspark.ml.regression import LinearRegression\n",
    "from pyspark.ml.tuning import CrossValidator, ParamGridBuilder\n",
    "\n",
    "import pandas as pd\n",
    "import numpy as np\n",
    "from datetime import datetime\n",
    "import matplotlib.pyplot as plt\n",
    "import seaborn as sns\n",
    "from sklearn import preprocessing"
   ]
  },
  {
   "cell_type": "code",
   "execution_count": 3,
   "metadata": {},
   "outputs": [],
   "source": [
    "# create a Spark session\n",
    "spark = SparkSession.builder \\\n",
    "    .master(\"local\") \\\n",
    "    .appName(\"Creating Features\") \\\n",
    "    .getOrCreate()"
   ]
  },
  {
   "cell_type": "markdown",
   "metadata": {},
   "source": [
    "# Load and Clean Dataset\n",
    "In this workspace, the mini-dataset file is `mini_sparkify_event_data.json`. Load and clean the dataset, checking for invalid or missing data - for example, records without userids or sessionids. "
   ]
  },
  {
   "cell_type": "code",
   "execution_count": 4,
   "metadata": {},
   "outputs": [
    {
     "data": {
      "text/plain": [
       "DataFrame[artist: string, auth: string, firstName: string, gender: string, itemInSession: bigint, lastName: string, length: double, level: string, location: string, method: string, page: string, registration: bigint, sessionId: bigint, song: string, status: bigint, ts: bigint, userAgent: string, userId: string]"
      ]
     },
     "execution_count": 4,
     "metadata": {},
     "output_type": "execute_result"
    }
   ],
   "source": [
    "sparkify_event_data = \"mini_sparkify_event_data.json\"\n",
    "df = spark.read.json(sparkify_event_data)\n",
    "df.persist()"
   ]
  },
  {
   "cell_type": "code",
   "execution_count": 5,
   "metadata": {},
   "outputs": [
    {
     "name": "stdout",
     "output_type": "stream",
     "text": [
      "root\n",
      " |-- artist: string (nullable = true)\n",
      " |-- auth: string (nullable = true)\n",
      " |-- firstName: string (nullable = true)\n",
      " |-- gender: string (nullable = true)\n",
      " |-- itemInSession: long (nullable = true)\n",
      " |-- lastName: string (nullable = true)\n",
      " |-- length: double (nullable = true)\n",
      " |-- level: string (nullable = true)\n",
      " |-- location: string (nullable = true)\n",
      " |-- method: string (nullable = true)\n",
      " |-- page: string (nullable = true)\n",
      " |-- registration: long (nullable = true)\n",
      " |-- sessionId: long (nullable = true)\n",
      " |-- song: string (nullable = true)\n",
      " |-- status: long (nullable = true)\n",
      " |-- ts: long (nullable = true)\n",
      " |-- userAgent: string (nullable = true)\n",
      " |-- userId: string (nullable = true)\n",
      "\n"
     ]
    }
   ],
   "source": [
    "# Structure of the dataframe\n",
    "df.printSchema()"
   ]
  },
  {
   "cell_type": "code",
   "execution_count": 6,
   "metadata": {},
   "outputs": [],
   "source": [
    "def print_shape (df):\n",
    "    df_len = df.count()\n",
    "    df_cols = len(df.columns)\n",
    "    print('DataFrame has {} log entries each having {} features'.format(df_len,df_cols))"
   ]
  },
  {
   "cell_type": "code",
   "execution_count": 7,
   "metadata": {},
   "outputs": [
    {
     "name": "stdout",
     "output_type": "stream",
     "text": [
      "DataFrame has 286500 log entries each having 18 features\n"
     ]
    }
   ],
   "source": [
    "#initial shape of df.\n",
    "print_shape(df)"
   ]
  },
  {
   "cell_type": "code",
   "execution_count": 8,
   "metadata": {},
   "outputs": [
    {
     "name": "stdout",
     "output_type": "stream",
     "text": [
      "DataFrame has 286500 log entries each having 18 features\n"
     ]
    }
   ],
   "source": [
    "df_val = df.dropna(how = \"any\", subset = [\"userId\", \"sessionId\"])\n",
    "# shape after dropping N/A's\n",
    "print_shape(df_val)"
   ]
  },
  {
   "cell_type": "markdown",
   "metadata": {},
   "source": [
    "There isn't any entries with N/A"
   ]
  },
  {
   "cell_type": "code",
   "execution_count": 9,
   "metadata": {},
   "outputs": [
    {
     "name": "stdout",
     "output_type": "stream",
     "text": [
      "DataFrame has 226 unique users\n"
     ]
    }
   ],
   "source": [
    "n_users = df.select('userId').dropDuplicates().count()\n",
    "print(f'DataFrame has {n_users} unique users')"
   ]
  },
  {
   "cell_type": "code",
   "execution_count": 10,
   "metadata": {},
   "outputs": [
    {
     "name": "stdout",
     "output_type": "stream",
     "text": [
      "+------+\n",
      "|userId|\n",
      "+------+\n",
      "|      |\n",
      "|    10|\n",
      "|   100|\n",
      "|100001|\n",
      "|100002|\n",
      "+------+\n",
      "only showing top 5 rows\n",
      "\n"
     ]
    }
   ],
   "source": [
    "df.select('userId').dropDuplicates().sort('userId').show(5)"
   ]
  },
  {
   "cell_type": "markdown",
   "metadata": {},
   "source": [
    "Appearently there is a user called '' (empty string, null). Investigate more about its actions."
   ]
  },
  {
   "cell_type": "code",
   "execution_count": 11,
   "metadata": {},
   "outputs": [
    {
     "name": "stdout",
     "output_type": "stream",
     "text": [
      "+------+----------+---------+------+-------------+--------+------+-----+--------+------+-----+------------+---------+----+------+-------------+---------+------+\n",
      "|artist|      auth|firstName|gender|itemInSession|lastName|length|level|location|method| page|registration|sessionId|song|status|           ts|userAgent|userId|\n",
      "+------+----------+---------+------+-------------+--------+------+-----+--------+------+-----+------------+---------+----+------+-------------+---------+------+\n",
      "|  null|Logged Out|     null|  null|          100|    null|  null| free|    null|   GET| Home|        null|        8|null|   200|1538355745000|     null|      |\n",
      "|  null|Logged Out|     null|  null|          101|    null|  null| free|    null|   GET| Help|        null|        8|null|   200|1538355807000|     null|      |\n",
      "|  null|Logged Out|     null|  null|          102|    null|  null| free|    null|   GET| Home|        null|        8|null|   200|1538355841000|     null|      |\n",
      "|  null|Logged Out|     null|  null|          103|    null|  null| free|    null|   PUT|Login|        null|        8|null|   307|1538355842000|     null|      |\n",
      "|  null|Logged Out|     null|  null|            2|    null|  null| free|    null|   GET| Home|        null|      240|null|   200|1538356678000|     null|      |\n",
      "|  null|Logged Out|     null|  null|            3|    null|  null| free|    null|   PUT|Login|        null|      240|null|   307|1538356679000|     null|      |\n",
      "|  null|Logged Out|     null|  null|            0|    null|  null| free|    null|   PUT|Login|        null|      100|null|   307|1538358102000|     null|      |\n",
      "|  null|Logged Out|     null|  null|            0|    null|  null| free|    null|   PUT|Login|        null|      241|null|   307|1538360117000|     null|      |\n",
      "|  null|Logged Out|     null|  null|           14|    null|  null| free|    null|   GET| Home|        null|      187|null|   200|1538361527000|     null|      |\n",
      "|  null|Logged Out|     null|  null|           15|    null|  null| free|    null|   PUT|Login|        null|      187|null|   307|1538361528000|     null|      |\n",
      "|  null|Logged Out|     null|  null|           21|    null|  null| free|    null|   GET| Home|        null|      187|null|   200|1538362007000|     null|      |\n",
      "|  null|Logged Out|     null|  null|           22|    null|  null| free|    null|   GET| Home|        null|      187|null|   200|1538362095000|     null|      |\n",
      "|  null|Logged Out|     null|  null|           23|    null|  null| free|    null|   PUT|Login|        null|      187|null|   307|1538362096000|     null|      |\n",
      "|  null|Logged Out|     null|  null|            0|    null|  null| free|    null|   GET| Home|        null|       27|null|   200|1538363488000|     null|      |\n",
      "|  null|Logged Out|     null|  null|            1|    null|  null| free|    null|   GET|About|        null|       27|null|   200|1538363494000|     null|      |\n",
      "|  null|Logged Out|     null|  null|            2|    null|  null| free|    null|   GET| Home|        null|       27|null|   200|1538363503000|     null|      |\n",
      "|  null|Logged Out|     null|  null|           38|    null|  null| free|    null|   GET| Home|        null|      187|null|   200|1538364254000|     null|      |\n",
      "|  null|Logged Out|     null|  null|           39|    null|  null| free|    null|   PUT|Login|        null|      187|null|   307|1538364255000|     null|      |\n",
      "|  null|Logged Out|     null|  null|            0|    null|  null| free|    null|   GET| Home|        null|      257|null|   200|1538364750000|     null|      |\n",
      "|  null|Logged Out|     null|  null|           47|    null|  null| free|    null|   GET| Home|        null|      100|null|   200|1538370681000|     null|      |\n",
      "+------+----------+---------+------+-------------+--------+------+-----+--------+------+-----+------------+---------+----+------+-------------+---------+------+\n",
      "only showing top 20 rows\n",
      "\n"
     ]
    }
   ],
   "source": [
    "df.filter(df['userId'] == '').show()"
   ]
  },
  {
   "cell_type": "markdown",
   "metadata": {},
   "source": [
    "The null is user is a not-logged-in user. Its actions mean nothing for us. \n",
    "Find how many such entries are available."
   ]
  },
  {
   "cell_type": "code",
   "execution_count": 12,
   "metadata": {},
   "outputs": [
    {
     "name": "stdout",
     "output_type": "stream",
     "text": [
      "There are 8346 log entries created by null user, clear them.\n"
     ]
    }
   ],
   "source": [
    "print('There are {} log entries created by null user, clear them.'.format(df.filter(df['userId'] == '').count()))"
   ]
  },
  {
   "cell_type": "code",
   "execution_count": 13,
   "metadata": {},
   "outputs": [],
   "source": [
    "df = df.filter(df[\"userId\"] != \"\")"
   ]
  },
  {
   "cell_type": "code",
   "execution_count": 14,
   "metadata": {},
   "outputs": [
    {
     "name": "stdout",
     "output_type": "stream",
     "text": [
      "DataFrame has 278154 log entries each having 18 features\n"
     ]
    }
   ],
   "source": [
    "#shape of df after null users cleared\n",
    "print_shape(df)"
   ]
  },
  {
   "cell_type": "code",
   "execution_count": 15,
   "metadata": {},
   "outputs": [
    {
     "name": "stdout",
     "output_type": "stream",
     "text": [
      "+---------+\n",
      "|sessionId|\n",
      "+---------+\n",
      "|        1|\n",
      "|        2|\n",
      "|        3|\n",
      "|        4|\n",
      "|        5|\n",
      "+---------+\n",
      "only showing top 5 rows\n",
      "\n"
     ]
    }
   ],
   "source": [
    "df.select('sessionId').dropDuplicates().sort('sessionId').show(5)"
   ]
  },
  {
   "cell_type": "markdown",
   "metadata": {},
   "source": [
    "There is no null session ID."
   ]
  },
  {
   "cell_type": "code",
   "execution_count": 16,
   "metadata": {},
   "outputs": [
    {
     "name": "stdout",
     "output_type": "stream",
     "text": [
      "+----------------+---------+---------+------+-------------+--------+---------+-----+--------------------+------+--------+-------------+---------+--------------------+------+-------------+--------------------+------+\n",
      "|          artist|     auth|firstName|gender|itemInSession|lastName|   length|level|            location|method|    page| registration|sessionId|                song|status|           ts|           userAgent|userId|\n",
      "+----------------+---------+---------+------+-------------+--------+---------+-----+--------------------+------+--------+-------------+---------+--------------------+------+-------------+--------------------+------+\n",
      "|  Martha Tilston|Logged In|    Colin|     M|           50| Freeman|277.89016| paid|     Bakersfield, CA|   PUT|NextSong|1538173362000|       29|           Rockpools|   200|1538352117000|Mozilla/5.0 (Wind...|    30|\n",
      "|Five Iron Frenzy|Logged In|    Micah|     M|           79|    Long|236.09424| free|Boston-Cambridge-...|   PUT|NextSong|1538331630000|        8|              Canada|   200|1538352180000|\"Mozilla/5.0 (Win...|     9|\n",
      "|    Adam Lambert|Logged In|    Colin|     M|           51| Freeman| 282.8273| paid|     Bakersfield, CA|   PUT|NextSong|1538173362000|       29|   Time For Miracles|   200|1538352394000|Mozilla/5.0 (Wind...|    30|\n",
      "|          Enigma|Logged In|    Micah|     M|           80|    Long|262.71302| free|Boston-Cambridge-...|   PUT|NextSong|1538331630000|        8|Knocking On Forbi...|   200|1538352416000|\"Mozilla/5.0 (Win...|     9|\n",
      "|       Daft Punk|Logged In|    Colin|     M|           52| Freeman|223.60771| paid|     Bakersfield, CA|   PUT|NextSong|1538173362000|       29|Harder Better Fas...|   200|1538352676000|Mozilla/5.0 (Wind...|    30|\n",
      "+----------------+---------+---------+------+-------------+--------+---------+-----+--------------------+------+--------+-------------+---------+--------------------+------+-------------+--------------------+------+\n",
      "only showing top 5 rows\n",
      "\n"
     ]
    }
   ],
   "source": [
    "df.show(5)"
   ]
  },
  {
   "cell_type": "markdown",
   "metadata": {},
   "source": [
    "### Get Some More Information About Dataset"
   ]
  },
  {
   "cell_type": "code",
   "execution_count": 17,
   "metadata": {
    "scrolled": false
   },
   "outputs": [
    {
     "name": "stdout",
     "output_type": "stream",
     "text": [
      "+------+-----+\n",
      "|gender|count|\n",
      "+------+-----+\n",
      "|     F|  104|\n",
      "|     M|  121|\n",
      "+------+-----+\n",
      "\n"
     ]
    }
   ],
   "source": [
    "df.dropDuplicates(['userId']).groupby('gender').count().show()"
   ]
  },
  {
   "cell_type": "code",
   "execution_count": 18,
   "metadata": {
    "scrolled": true
   },
   "outputs": [
    {
     "name": "stdout",
     "output_type": "stream",
     "text": [
      "+-----+-----+\n",
      "|level|count|\n",
      "+-----+-----+\n",
      "| free|  177|\n",
      "| paid|   48|\n",
      "+-----+-----+\n",
      "\n"
     ]
    }
   ],
   "source": [
    "df.dropDuplicates(['userId']).groupby('level').count().show()"
   ]
  },
  {
   "cell_type": "markdown",
   "metadata": {},
   "source": [
    "Above table is valid only for inital conditions. If any user changed their subscription level afterwards, its not included above."
   ]
  },
  {
   "cell_type": "markdown",
   "metadata": {},
   "source": [
    "Lets get some information from timestamps"
   ]
  },
  {
   "cell_type": "code",
   "execution_count": 19,
   "metadata": {},
   "outputs": [],
   "source": [
    "day_name= ['Monday', 'Tuesday', 'Wednesday', 'Thursday', 'Friday', 'Saturday','Sunday']\n",
    "day_ind = [1,2,3,4,5,6,7]\n",
    "get_hour = udf(lambda x: datetime.fromtimestamp(x/1000).hour, IntegerType() )\n",
    "get_day = udf(lambda x: datetime.fromtimestamp(x/1000).day, IntegerType() )\n",
    "get_wkday = udf(lambda x: day_name[datetime.fromtimestamp(x/1000).weekday()] )"
   ]
  },
  {
   "cell_type": "code",
   "execution_count": 20,
   "metadata": {},
   "outputs": [],
   "source": [
    "df = df.withColumn('ts_hour', get_hour('ts'))\n",
    "df = df.withColumn('ts_day', get_day('ts'))\n",
    "df = df.withColumn('ts_wkday', get_wkday('ts'))"
   ]
  },
  {
   "cell_type": "code",
   "execution_count": 21,
   "metadata": {
    "scrolled": true
   },
   "outputs": [
    {
     "name": "stdout",
     "output_type": "stream",
     "text": [
      "+----------------+---------+---------+------+-------------+--------+---------+-----+--------------------+------+--------+-------------+---------+--------------------+------+-------------+--------------------+------+-------+------+--------+\n",
      "|          artist|     auth|firstName|gender|itemInSession|lastName|   length|level|            location|method|    page| registration|sessionId|                song|status|           ts|           userAgent|userId|ts_hour|ts_day|ts_wkday|\n",
      "+----------------+---------+---------+------+-------------+--------+---------+-----+--------------------+------+--------+-------------+---------+--------------------+------+-------------+--------------------+------+-------+------+--------+\n",
      "|  Martha Tilston|Logged In|    Colin|     M|           50| Freeman|277.89016| paid|     Bakersfield, CA|   PUT|NextSong|1538173362000|       29|           Rockpools|   200|1538352117000|Mozilla/5.0 (Wind...|    30|      0|     1|  Monday|\n",
      "|Five Iron Frenzy|Logged In|    Micah|     M|           79|    Long|236.09424| free|Boston-Cambridge-...|   PUT|NextSong|1538331630000|        8|              Canada|   200|1538352180000|\"Mozilla/5.0 (Win...|     9|      0|     1|  Monday|\n",
      "|    Adam Lambert|Logged In|    Colin|     M|           51| Freeman| 282.8273| paid|     Bakersfield, CA|   PUT|NextSong|1538173362000|       29|   Time For Miracles|   200|1538352394000|Mozilla/5.0 (Wind...|    30|      0|     1|  Monday|\n",
      "|          Enigma|Logged In|    Micah|     M|           80|    Long|262.71302| free|Boston-Cambridge-...|   PUT|NextSong|1538331630000|        8|Knocking On Forbi...|   200|1538352416000|\"Mozilla/5.0 (Win...|     9|      0|     1|  Monday|\n",
      "|       Daft Punk|Logged In|    Colin|     M|           52| Freeman|223.60771| paid|     Bakersfield, CA|   PUT|NextSong|1538173362000|       29|Harder Better Fas...|   200|1538352676000|Mozilla/5.0 (Wind...|    30|      0|     1|  Monday|\n",
      "+----------------+---------+---------+------+-------------+--------+---------+-----+--------------------+------+--------+-------------+---------+--------------------+------+-------------+--------------------+------+-------+------+--------+\n",
      "only showing top 5 rows\n",
      "\n"
     ]
    }
   ],
   "source": [
    "df.show(5)"
   ]
  },
  {
   "cell_type": "code",
   "execution_count": 22,
   "metadata": {
    "scrolled": false
   },
   "outputs": [
    {
     "data": {
      "image/png": "[encoded data removed]",
      "text/plain": [
       "<matplotlib.figure.Figure at 0x7fc2007cf518>"
      ]
     },
     "metadata": {
      "needs_background": "light"
     },
     "output_type": "display_data"
    }
   ],
   "source": [
    "temp = df.groupby('ts_wkday').count().sort('ts_wkday').toPandas()\n",
    "temp.plot(kind='bar',x='ts_wkday', y='count',color=(0.2, 0.4, 0.6, 0.6));"
   ]
  },
  {
   "cell_type": "markdown",
   "metadata": {},
   "source": [
    "People dont tend to listen music on weekends. Maybe because of they dont commute, or maybe they sociliaze"
   ]
  },
  {
   "cell_type": "code",
   "execution_count": 23,
   "metadata": {},
   "outputs": [
    {
     "data": {
      "image/png": "[encoded data removed]",
      "text/plain": [
       "<matplotlib.figure.Figure at 0x7fc1d175b630>"
      ]
     },
     "metadata": {
      "needs_background": "light"
     },
     "output_type": "display_data"
    }
   ],
   "source": [
    "temp = df.groupby('ts_hour').count().sort('ts_hour').toPandas()\n",
    "temp.plot(kind='bar',x='ts_hour', y='count',color=(0.2, 0.4, 0.6, 0.6));"
   ]
  },
  {
   "cell_type": "markdown",
   "metadata": {},
   "source": [
    "The most active hours are 15-16-17-18 hr."
   ]
  },
  {
   "cell_type": "code",
   "execution_count": 24,
   "metadata": {},
   "outputs": [
    {
     "data": {
      "image/png": "[encoded data removed]",
      "text/plain": [
       "<matplotlib.figure.Figure at 0x7fc1d1626240>"
      ]
     },
     "metadata": {
      "needs_background": "light"
     },
     "output_type": "display_data"
    }
   ],
   "source": [
    "temp = df.groupby('ts_day').count().sort('ts_day').toPandas()\n",
    "temp.plot(kind='bar',x='ts_day', y='count',color=(0.2, 0.4, 0.6, 0.6));"
   ]
  },
  {
   "cell_type": "markdown",
   "metadata": {},
   "source": [
    "Day of month doesnt tell much thing."
   ]
  },
  {
   "cell_type": "code",
   "execution_count": null,
   "metadata": {},
   "outputs": [],
   "source": []
  },
  {
   "cell_type": "markdown",
   "metadata": {},
   "source": [
    "# Exploratory Data Analysis\n",
    "When you're working with the full dataset, perform EDA by loading a small subset of the data and doing basic manipulations within Spark. In this workspace, you are already provided a small subset of data you can explore.\n",
    "\n",
    "### Define Churn\n",
    "\n",
    "Once you've done some preliminary analysis, create a column `Churn` to use as the label for your model. I suggest using the `Cancellation Confirmation` events to define your churn, which happen for both paid and free users. As a bonus task, you can also look into the `Downgrade` events.\n",
    "\n",
    "### Explore Data\n",
    "Once you've defined churn, perform some exploratory data analysis to observe the behavior for users who stayed vs users who churned. You can start by exploring aggregates on these two groups of users, observing how much of a specific action they experienced per a certain time unit or number of songs played."
   ]
  },
  {
   "cell_type": "code",
   "execution_count": null,
   "metadata": {},
   "outputs": [],
   "source": []
  },
  {
   "cell_type": "code",
   "execution_count": 25,
   "metadata": {},
   "outputs": [
    {
     "name": "stdout",
     "output_type": "stream",
     "text": [
      "+------+---------+-------------+-----------+-------------+-----+\n",
      "|userId|sessionId|itemInSession|       page|           ts|level|\n",
      "+------+---------+-------------+-----------+-------------+-----+\n",
      "|    12|       11|            1|       Home|1538533887000| free|\n",
      "|    12|       11|            2|   NextSong|1538534032000| free|\n",
      "|    12|       11|            3|   NextSong|1538534284000| free|\n",
      "|    12|       11|            4|Roll Advert|1538534719000| free|\n",
      "|    12|       11|            5|   NextSong|1538534995000| free|\n",
      "|    12|       11|            6| Add Friend|1538534996000| free|\n",
      "|    12|       11|            7|   NextSong|1538535186000| free|\n",
      "|    12|       11|            8|   NextSong|1538535442000| free|\n",
      "|    12|       11|            9|   NextSong|1538537680000| free|\n",
      "|    12|       11|           10|   NextSong|1538537843000| free|\n",
      "|    12|       11|           11|   NextSong|1538538176000| free|\n",
      "|    12|       11|           12|   NextSong|1538538290000| free|\n",
      "|    12|       11|           13|   NextSong|1538538560000| free|\n",
      "|    12|       11|           14|   NextSong|1538538719000| free|\n",
      "|    12|       11|           15|   NextSong|1538538883000| free|\n",
      "|    12|       11|           16|       Help|1538539255000| free|\n",
      "|    12|       11|           17| Add Friend|1538539256000| free|\n",
      "|    12|       11|           18|   Settings|1538539403000| free|\n",
      "|    12|       11|           19|   Settings|1538540573000| free|\n",
      "|    12|       11|           20|   Settings|1538541105000| free|\n",
      "+------+---------+-------------+-----------+-------------+-----+\n",
      "only showing top 20 rows\n",
      "\n"
     ]
    }
   ],
   "source": [
    "# lets check what it looks like for a single user / This user has Cancellation.\n",
    "df.where(df.userId == 12).select(['userId','sessionId','itemInSession','page','ts','level']).show()"
   ]
  },
  {
   "cell_type": "code",
   "execution_count": 26,
   "metadata": {
    "scrolled": true
   },
   "outputs": [
    {
     "name": "stdout",
     "output_type": "stream",
     "text": [
      "+--------------------+\n",
      "|                page|\n",
      "+--------------------+\n",
      "|              Cancel|\n",
      "|    Submit Downgrade|\n",
      "|         Thumbs Down|\n",
      "|                Home|\n",
      "|           Downgrade|\n",
      "|         Roll Advert|\n",
      "|              Logout|\n",
      "|       Save Settings|\n",
      "|Cancellation Conf...|\n",
      "|               About|\n",
      "|            Settings|\n",
      "|     Add to Playlist|\n",
      "|          Add Friend|\n",
      "|            NextSong|\n",
      "|           Thumbs Up|\n",
      "|                Help|\n",
      "|             Upgrade|\n",
      "|               Error|\n",
      "|      Submit Upgrade|\n",
      "+--------------------+\n",
      "\n"
     ]
    }
   ],
   "source": [
    "# values of page features\n",
    "df.select(\"page\").dropDuplicates().show()"
   ]
  },
  {
   "cell_type": "code",
   "execution_count": 27,
   "metadata": {},
   "outputs": [
    {
     "name": "stdout",
     "output_type": "stream",
     "text": [
      "52 user cancelled their account\n"
     ]
    }
   ],
   "source": [
    "temp = df.filter(df_val[\"page\"] == \"Cancellation Confirmation\").count()\n",
    "print(f'{temp} user cancelled their account')"
   ]
  },
  {
   "cell_type": "code",
   "execution_count": 28,
   "metadata": {},
   "outputs": [],
   "source": [
    "# create a list for churn users\n",
    "churn_user_df = df.filter(df.page==\"Cancellation Confirmation\").select(\"userId\").dropDuplicates()\n",
    "churn_user_list = [user[\"userId\"] for user in churn_user_df.collect()]"
   ]
  },
  {
   "cell_type": "code",
   "execution_count": 29,
   "metadata": {},
   "outputs": [],
   "source": [
    "# create a column for churn\n",
    "df = df.withColumn(\"churn\", df.userId.isin(churn_user_list))"
   ]
  },
  {
   "cell_type": "code",
   "execution_count": 30,
   "metadata": {},
   "outputs": [
    {
     "name": "stdout",
     "output_type": "stream",
     "text": [
      "+--------------+---------+---------+------+-------------+--------+---------+-----+---------------+------+--------+-------------+---------+---------+------+-------------+--------------------+------+-------+------+--------+-----+\n",
      "|        artist|     auth|firstName|gender|itemInSession|lastName|   length|level|       location|method|    page| registration|sessionId|     song|status|           ts|           userAgent|userId|ts_hour|ts_day|ts_wkday|churn|\n",
      "+--------------+---------+---------+------+-------------+--------+---------+-----+---------------+------+--------+-------------+---------+---------+------+-------------+--------------------+------+-------+------+--------+-----+\n",
      "|Martha Tilston|Logged In|    Colin|     M|           50| Freeman|277.89016| paid|Bakersfield, CA|   PUT|NextSong|1538173362000|       29|Rockpools|   200|1538352117000|Mozilla/5.0 (Wind...|    30|      0|     1|  Monday|false|\n",
      "+--------------+---------+---------+------+-------------+--------+---------+-----+---------------+------+--------+-------------+---------+---------+------+-------------+--------------------+------+-------+------+--------+-----+\n",
      "only showing top 1 row\n",
      "\n"
     ]
    }
   ],
   "source": [
    "df.show(1)"
   ]
  },
  {
   "cell_type": "markdown",
   "metadata": {},
   "source": [
    "### Visualize Churn vs Gender"
   ]
  },
  {
   "cell_type": "code",
   "execution_count": 37,
   "metadata": {},
   "outputs": [],
   "source": [
    "# show gender difference in churn\n",
    "gender_data = df.dropDuplicates(['userId']).groupby(['gender','churn']).count().toPandas()"
   ]
  },
  {
   "cell_type": "code",
   "execution_count": 40,
   "metadata": {},
   "outputs": [
    {
     "data": {
      "image/png": "[encoded data removed]",
      "text/plain": [
       "<matplotlib.figure.Figure at 0x7fc1c8f50fd0>"
      ]
     },
     "metadata": {
      "needs_background": "light"
     },
     "output_type": "display_data"
    }
   ],
   "source": [
    "# plot gender effect on churn\n",
    "fig, ax = plt.subplots(figsize=(4,4))\n",
    "sns.barplot( x=\"gender\",y=\"count\", hue=\"churn\", data=gender_data,ax=ax);"
   ]
  },
  {
   "cell_type": "markdown",
   "metadata": {},
   "source": [
    "### Visualize Churn vs Subscription"
   ]
  },
  {
   "cell_type": "code",
   "execution_count": 43,
   "metadata": {},
   "outputs": [
    {
     "data": {
      "image/png": "[encoded data removed]",
      "text/plain": [
       "<matplotlib.figure.Figure at 0x7fc1c8ea9a90>"
      ]
     },
     "metadata": {
      "needs_background": "light"
     },
     "output_type": "display_data"
    }
   ],
   "source": [
    "# show subscription difference in churn\n",
    "level_data = df.dropDuplicates(['userId']).groupby(['level','churn']).count().toPandas()\n",
    "# plot subscription effect on churn\n",
    "fig, ax = plt.subplots(figsize=(4,4))\n",
    "sns.barplot( x=\"level\",y=\"count\", hue=\"churn\", data=level_data,ax=ax);### Visualize Churn vs Gender"
   ]
  },
  {
   "cell_type": "code",
   "execution_count": 69,
   "metadata": {},
   "outputs": [
    {
     "name": "stdout",
     "output_type": "stream",
     "text": [
      "free/churn ratio: 0.24858757062146894\n"
     ]
    }
   ],
   "source": [
    "temp = level_data[(level_data['level'] == 'free') & (level_data['churn'] == True) ]['count'].values[0] \\\n",
    "/ level_data.groupby('level').sum().iloc[0][1]\n",
    "print(f'free/churn ratio: {temp}')"
   ]
  },
  {
   "cell_type": "code",
   "execution_count": 70,
   "metadata": {},
   "outputs": [
    {
     "name": "stdout",
     "output_type": "stream",
     "text": [
      "paid/churn ratio: 0.16666666666666666\n"
     ]
    }
   ],
   "source": [
    "temp = level_data[(level_data['level'] == 'paid') & (level_data['churn'] == True) ]['count'].values[0] \\\n",
    "/ level_data.groupby('level').sum().iloc[1][1]\n",
    "print(f'paid/churn ratio: {temp}')"
   ]
  },
  {
   "cell_type": "markdown",
   "metadata": {},
   "source": [
    "Paid users are less likely to churn compared to free users."
   ]
  },
  {
   "cell_type": "markdown",
   "metadata": {},
   "source": [
    "### Visualize Churn vs Number of Page Visits"
   ]
  },
  {
   "cell_type": "code",
   "execution_count": 136,
   "metadata": {},
   "outputs": [],
   "source": [
    "page_data = df.select([\"page\",\"churn\"]).groupby([ \"page\",\"Churn\"]).count().sort(\"count\").toPandas()"
   ]
  },
  {
   "cell_type": "code",
   "execution_count": 137,
   "metadata": {},
   "outputs": [],
   "source": [
    "page_data = page_data[~(page_data['page'].isin([\"NextSong\",\"Cancel\",\"Cancellation Confirmation\"]))] # Next Song is super common, cancels are churns"
   ]
  },
  {
   "cell_type": "code",
   "execution_count": 145,
   "metadata": {},
   "outputs": [],
   "source": [
    "def myNormalizer(df, column):\n",
    "    x = df[[column]].values.astype(float)\n",
    "    min_max_scaler = preprocessing.MinMaxScaler()\n",
    "    x_scaled = min_max_scaler.fit_transform(x)\n",
    "    df['count'] = x_scaled\n",
    "    return df"
   ]
  },
  {
   "cell_type": "code",
   "execution_count": 139,
   "metadata": {},
   "outputs": [
    {
     "data": {
      "image/png": "[encoded data removed]",
      "text/plain": [
       "<matplotlib.figure.Figure at 0x7fc1c7cb9828>"
      ]
     },
     "metadata": {
      "needs_background": "light"
     },
     "output_type": "display_data"
    }
   ],
   "source": [
    "fig, ax = plt.subplots(figsize=(8,8))\n",
    "sns.barplot( x=\"count\",y=\"page\", hue=\"Churn\", data=page_data,ax=ax);"
   ]
  },
  {
   "cell_type": "markdown",
   "metadata": {},
   "source": [
    "RollAdvert, Thumbs Down, Error, Use of Playlist and Friending pages may have effect on Churn"
   ]
  },
  {
   "cell_type": "markdown",
   "metadata": {},
   "source": [
    "### Analyze Churned Users"
   ]
  },
  {
   "cell_type": "code",
   "execution_count": 140,
   "metadata": {},
   "outputs": [],
   "source": [
    "#page_dataC = df.filter(df[\"churn\"] == True).select([\"page\"]).groupby([ \"page\"]).count().sort(\"count\").toPandas()"
   ]
  },
  {
   "cell_type": "markdown",
   "metadata": {},
   "source": [
    "### Analyze Churn vs Timestamp"
   ]
  },
  {
   "cell_type": "code",
   "execution_count": 284,
   "metadata": {},
   "outputs": [
    {
     "data": {
      "image/png": "[encoded data removed]",
      "text/plain": [
       "<matplotlib.figure.Figure at 0x7fc1c7c7c1d0>"
      ]
     },
     "metadata": {
      "needs_background": "light"
     },
     "output_type": "display_data"
    }
   ],
   "source": [
    "hour_data = df.filter(df[\"churn\"] == True).select([\"ts_hour\"]).groupby([ \"ts_hour\"]).count().sort(\"ts_hour\").toPandas()\n",
    "hour_data_C = myNormalizer(hour_data, 'count')\n",
    "hour_data = df.filter(df[\"churn\"] == False).select([\"ts_hour\"]).groupby([ \"ts_hour\"]).count().sort(\"ts_hour\").toPandas()\n",
    "hour_data_NC = myNormalizer(hour_data, 'count')\n",
    "plotdata = pd.DataFrame({\n",
    "    \"Churn\": hour_data_C['count'].values,\n",
    "    \"Not Churn\":hour_data_NC['count'].values\n",
    "    }, \n",
    "    index=hour_data_C.index.values\n",
    ")\n",
    "plotdata.plot(kind=\"bar\", figsize=(16,8));\n",
    "plt.title(\"Hour based activity\");\n",
    "plt.xlabel(\"Hours\");\n",
    "plt.ylabel(\"Activity\");"
   ]
  },
  {
   "cell_type": "code",
   "execution_count": 285,
   "metadata": {},
   "outputs": [
    {
     "data": {
      "image/png": "[encoded data removed]",
      "text/plain": [
       "<matplotlib.figure.Figure at 0x7fc1c4455860>"
      ]
     },
     "metadata": {
      "needs_background": "light"
     },
     "output_type": "display_data"
    }
   ],
   "source": [
    "day_data = df.filter(df[\"churn\"] == True).select([\"ts_day\"]).groupby([ \"ts_day\"]).count().sort(\"ts_day\").toPandas()\n",
    "day_data_C = myNormalizer(day_data, 'count')\n",
    "day_data = df.filter(df[\"churn\"] == False).select([\"ts_day\"]).groupby([ \"ts_day\"]).count().sort(\"ts_day\").toPandas()\n",
    "day_data_NC = myNormalizer(day_data, 'count')\n",
    "plotdata = pd.DataFrame({\n",
    "    \"Churn\": day_data_C['count'].values,\n",
    "    \"Not Churn\":day_data_NC['count'].values\n",
    "    }, \n",
    "    index=day_data_C.index.values\n",
    ")\n",
    "plotdata.plot(kind=\"bar\", figsize=(16,8));\n",
    "plt.title(\"Day based activity\");\n",
    "plt.ylabel(\"Activity\");\n",
    "plt.xlabel(\"Days of Month\");"
   ]
  },
  {
   "cell_type": "markdown",
   "metadata": {},
   "source": [
    "Churn activities are more common on the first half of the month."
   ]
  },
  {
   "cell_type": "code",
   "execution_count": 286,
   "metadata": {},
   "outputs": [
    {
     "data": {
      "image/png": "[encoded data removed]",
      "text/plain": [
       "<matplotlib.figure.Figure at 0x7fc1c7b9cdd8>"
      ]
     },
     "metadata": {
      "needs_background": "light"
     },
     "output_type": "display_data"
    }
   ],
   "source": [
    "wk_data = df.filter(df[\"churn\"] == True).select([\"ts_wkday\"]).groupby([ \"ts_wkday\"]).count().sort(\"ts_wkday\").toPandas()\n",
    "wk_data_C = myNormalizer(wk_data, 'count')\n",
    "wk_data = df.filter(df[\"churn\"] == False).select([\"ts_wkday\"]).groupby([ \"ts_wkday\"]).count().sort(\"ts_wkday\").toPandas()\n",
    "wk_data_NC = myNormalizer(wk_data, 'count')\n",
    "plotdata = pd.DataFrame({\n",
    "    \"Churn\": wk_data_C['count'].values,\n",
    "    \"Not Churn\":wk_data_NC['count'].values\n",
    "    }, \n",
    "    index=wk_data_C.index.values\n",
    ")\n",
    "plotdata.plot(kind=\"bar\", figsize=(16,8));\n",
    "plt.title(\"Day of Week based activity\");\n",
    "plt.ylabel(\"Activity\");\n",
    "plt.xlabel(\"Days of Week\");"
   ]
  },
  {
   "cell_type": "markdown",
   "metadata": {},
   "source": [
    "# Feature Engineering\n",
    "Once you've familiarized yourself with the data, build out the features you find promising to train your model on. To work with the full dataset, you can follow the following steps.\n",
    "- Write a script to extract the necessary features from the smaller subset of data\n",
    "- Ensure that your script is scalable, using the best practices discussed in Lesson 3\n",
    "- Try your script on the full data set, debugging your script if necessary\n",
    "\n",
    "If you are working in the classroom workspace, you can just extract features based on the small subset of data contained here. Be sure to transfer over this work to the larger dataset when you work on your Spark cluster."
   ]
  },
  {
   "cell_type": "markdown",
   "metadata": {},
   "source": [
    "### Use \"Subscription Level\" as First Feature"
   ]
  },
  {
   "cell_type": "code",
   "execution_count": 252,
   "metadata": {},
   "outputs": [],
   "source": [
    "df_level = df.dropDuplicates(['userId']).sort('userId').select(['userId','level'])\n",
    "df_level = df_level.replace(['paid','free'], ['1', '0'], 'level')\n",
    "df_level = df_level.withColumn('level', df_level.level.cast(\"int\"))"
   ]
  },
  {
   "cell_type": "markdown",
   "metadata": {},
   "source": [
    "### Use \"Thumbs Down\" as Second Feature"
   ]
  },
  {
   "cell_type": "code",
   "execution_count": 216,
   "metadata": {},
   "outputs": [],
   "source": [
    "df_thumbsdown = df.where(df.page=='Thumbs Down').groupby(['userId'])\\\n",
    "    .agg(count(col('page')).alias('ThumbsDowns')).orderBy('userId').select(['userId','ThumbsDowns'])"
   ]
  },
  {
   "cell_type": "markdown",
   "metadata": {},
   "source": [
    "### Use \"Roll Advert\" as Third Feature"
   ]
  },
  {
   "cell_type": "code",
   "execution_count": 212,
   "metadata": {},
   "outputs": [],
   "source": [
    "df_rollAd = df.where(df.page=='Roll Advert').groupby(['userId'])\\\n",
    "    .agg(count(col('page')).alias('RollAdv')).orderBy('userId').select(['userId','RollAdv'])"
   ]
  },
  {
   "cell_type": "markdown",
   "metadata": {},
   "source": [
    "### Use \"Errors\" as Fourth Feature"
   ]
  },
  {
   "cell_type": "code",
   "execution_count": 213,
   "metadata": {},
   "outputs": [],
   "source": [
    "df_errors = df.where(df.page=='Error').groupby(['userId'])\\\n",
    "    .agg(count(col('page')).alias('Errors')).orderBy('userId').select(['userId','Errors'])"
   ]
  },
  {
   "cell_type": "markdown",
   "metadata": {},
   "source": [
    "### Use \"Friends\" as Fifth Feature"
   ]
  },
  {
   "cell_type": "code",
   "execution_count": 214,
   "metadata": {},
   "outputs": [],
   "source": [
    "df_friends = df.where(df.page=='Add Friend').groupby(['userId'])\\\n",
    "    .agg(count(col('page')).alias('Friends')).orderBy('userId').select(['userId','Friends'])"
   ]
  },
  {
   "cell_type": "markdown",
   "metadata": {},
   "source": [
    "### Use \"Number of Songs\" as Sixth Feature"
   ]
  },
  {
   "cell_type": "code",
   "execution_count": 223,
   "metadata": {},
   "outputs": [],
   "source": [
    "df_songs = df.where(df.song!='null').groupby('userId') \\\n",
    "    .agg(count(df.song).alias('SongsPlayed')).orderBy('userId').select(['userId','SongsPlayed'])"
   ]
  },
  {
   "cell_type": "markdown",
   "metadata": {},
   "source": [
    "### Create Features DataFrame"
   ]
  },
  {
   "cell_type": "code",
   "execution_count": 255,
   "metadata": {},
   "outputs": [],
   "source": [
    "df_features = df.dropDuplicates(['userId']).select(['userId','churn'])"
   ]
  },
  {
   "cell_type": "code",
   "execution_count": 256,
   "metadata": {},
   "outputs": [],
   "source": [
    "df_features = df_features.join(df_level, 'userId')\n",
    "df_features = df_features.join(df_thumbsdown, 'userId')\n",
    "df_features = df_features.join(df_rollAd, 'userId')\n",
    "df_features = df_features.join(df_errors, 'userId')\n",
    "df_features = df_features.join(df_friends, 'userId')\n",
    "df_features = df_features.join(df_songs, 'userId')\n",
    "#df_features.show()"
   ]
  },
  {
   "cell_type": "code",
   "execution_count": 287,
   "metadata": {},
   "outputs": [
    {
     "name": "stdout",
     "output_type": "stream",
     "text": [
      "+------+-----+-----+-----------+-------+------+-------+-----------+\n",
      "|userId|churn|level|ThumbsDowns|RollAdv|Errors|Friends|SongsPlayed|\n",
      "+------+-----+-----+-----------+-------+------+-------+-----------+\n",
      "|   100|  0.0|  1.0|       27.0|   25.0|   3.0|   49.0|     2682.0|\n",
      "|100001|  1.0|  0.0|        2.0|   14.0|   1.0|    2.0|      133.0|\n",
      "|100004|  0.0|  0.0|       11.0|   86.0|   2.0|   19.0|      942.0|\n",
      "|100013|  1.0|  0.0|       15.0|   39.0|   2.0|   28.0|     1131.0|\n",
      "|100015|  1.0|  0.0|        8.0|   69.0|   1.0|   14.0|      800.0|\n",
      "|100016|  0.0|  1.0|        5.0|   16.0|   1.0|   13.0|      530.0|\n",
      "|100021|  1.0|  0.0|        5.0|   30.0|   2.0|    7.0|      230.0|\n",
      "|100022|  1.0|  0.0|       20.0|  115.0|   1.0|   11.0|      681.0|\n",
      "|100025|  1.0|  1.0|        7.0|   30.0|   1.0|    3.0|      490.0|\n",
      "|   101|  1.0|  0.0|       16.0|    8.0|   3.0|   29.0|     1797.0|\n",
      "|   104|  0.0|  0.0|       17.0|   23.0|   1.0|   23.0|     1781.0|\n",
      "|   105|  1.0|  0.0|        6.0|    2.0|   2.0|   13.0|      764.0|\n",
      "|    11|  0.0|  0.0|        9.0|   39.0|   1.0|    6.0|      647.0|\n",
      "|   111|  0.0|  0.0|        6.0|    3.0|   2.0|   23.0|      698.0|\n",
      "|   113|  0.0|  0.0|       12.0|    1.0|   3.0|   32.0|     1585.0|\n",
      "|   114|  0.0|  0.0|       12.0|    9.0|   2.0|   13.0|     1292.0|\n",
      "|   115|  0.0|  0.0|       24.0|   11.0|   3.0|   39.0|     1737.0|\n",
      "|   117|  0.0|  0.0|        3.0|   22.0|   2.0|   10.0|      343.0|\n",
      "|   118|  0.0|  0.0|       27.0|   26.0|   2.0|   52.0|     2376.0|\n",
      "|   119|  0.0|  0.0|        1.0|    9.0|   1.0|    4.0|      173.0|\n",
      "+------+-----+-----+-----------+-------+------+-------+-----------+\n",
      "only showing top 20 rows\n",
      "\n"
     ]
    }
   ],
   "source": [
    "df_features.show()"
   ]
  },
  {
   "cell_type": "code",
   "execution_count": 263,
   "metadata": {},
   "outputs": [
    {
     "data": {
      "text/plain": [
       "[('userId', 'string'),\n",
       " ('churn', 'boolean'),\n",
       " ('level', 'int'),\n",
       " ('ThumbsDowns', 'bigint'),\n",
       " ('RollAdv', 'bigint'),\n",
       " ('Errors', 'bigint'),\n",
       " ('Friends', 'bigint'),\n",
       " ('SongsPlayed', 'bigint')]"
      ]
     },
     "execution_count": 263,
     "metadata": {},
     "output_type": "execute_result"
    }
   ],
   "source": [
    "df_features.dtypes"
   ]
  },
  {
   "cell_type": "code",
   "execution_count": 265,
   "metadata": {},
   "outputs": [],
   "source": [
    "# convert data type of columns into float\n",
    "for feature in df_features.columns[1:]:\n",
    "    df_features = df_features.withColumn(feature,df_features[feature].cast('float'))"
   ]
  },
  {
   "cell_type": "markdown",
   "metadata": {},
   "source": [
    "# Modeling\n",
    "Split the full dataset into train, test, and validation sets. Test out several of the machine learning methods you learned. Evaluate the accuracy of the various models, tuning parameters as necessary. Determine your winning model based on test accuracy and report results on the validation set. Since the churned users are a fairly small subset, I suggest using F1 score as the metric to optimize."
   ]
  },
  {
   "cell_type": "code",
   "execution_count": 267,
   "metadata": {},
   "outputs": [],
   "source": [
    "train, test = df_features.randomSplit([0.8, 0.2], seed=42)"
   ]
  },
  {
   "cell_type": "markdown",
   "metadata": {},
   "source": [
    "### Logistic Regression"
   ]
  },
  {
   "cell_type": "code",
   "execution_count": 268,
   "metadata": {},
   "outputs": [],
   "source": [
    "assembler = VectorAssembler(inputCols=df_features.columns[2:],outputCol='featuresassemble')\n",
    "scaler = StandardScaler(inputCol=\"featuresassemble\", outputCol=\"features\", withStd=True)\n",
    "indexer = StringIndexer(inputCol=\"churn\", outputCol=\"label\")\n",
    "\n",
    "lr =  LogisticRegression(maxIter=10, regParam=0.0, elasticNetParam=0)\n",
    "\n",
    "stringIndexer = StringIndexer(inputCol=\"label\", outputCol=\"indexed\")\n",
    "rf = RandomForestClassifier(numTrees=3, maxDepth=2, labelCol=\"indexed\", seed=42)"
   ]
  },
  {
   "cell_type": "code",
   "execution_count": 269,
   "metadata": {},
   "outputs": [],
   "source": [
    "pipeline_lr = Pipeline(stages=[assembler, scaler, indexer, lr])"
   ]
  },
  {
   "cell_type": "code",
   "execution_count": 280,
   "metadata": {},
   "outputs": [],
   "source": [
    "# Grid Search parameters for logistic regression\n",
    "paramGrid_lr = ParamGridBuilder()\\\n",
    "    .addGrid(lr.maxIter, [10, 30]) \\\n",
    "    .addGrid(lr.regParam, [0.0, 0.1]) \\\n",
    "    .addGrid(lr.elasticNetParam, [0.0, 0.5]) \\\n",
    "    .build()\n",
    "\n",
    "\n",
    "crossval_lr = CrossValidator(estimator=pipeline_lr,\n",
    "                          estimatorParamMaps=paramGrid_lr,\n",
    "                          evaluator=BinaryClassificationEvaluator(),\n",
    "                          numFolds=4)"
   ]
  },
  {
   "cell_type": "code",
   "execution_count": 281,
   "metadata": {},
   "outputs": [],
   "source": [
    "cvModel_lr = crossval_lr.fit(train)"
   ]
  },
  {
   "cell_type": "code",
   "execution_count": 298,
   "metadata": {},
   "outputs": [
    {
     "data": {
      "text/plain": [
       "[0.6671682883679787,\n",
       " 0.6671682883679787,\n",
       " 0.656811882647796,\n",
       " 0.6678162317558602,\n",
       " 0.6812929382279227,\n",
       " 0.6812929382279227,\n",
       " 0.656811882647796,\n",
       " 0.653045849918915]"
      ]
     },
     "execution_count": 298,
     "metadata": {},
     "output_type": "execute_result"
    }
   ],
   "source": [
    "cvModel_lr.avgMetrics"
   ]
  },
  {
   "cell_type": "code",
   "execution_count": 306,
   "metadata": {},
   "outputs": [
    {
     "name": "stdout",
     "output_type": "stream",
     "text": [
      "F1 Score of Logistic Regression: 0.7592592592592592\n"
     ]
    }
   ],
   "source": [
    "# test performance\n",
    "results_lr = cvModel_lr.transform(test)\n",
    "print(\"F1 Score of Logistic Regression:\", BinaryClassificationEvaluator().evaluate(results_lr))"
   ]
  },
  {
   "cell_type": "markdown",
   "metadata": {},
   "source": [
    "### Random Forest"
   ]
  },
  {
   "cell_type": "code",
   "execution_count": 275,
   "metadata": {},
   "outputs": [],
   "source": [
    "pipeline_rf = Pipeline(stages=[assembler, scaler, indexer, stringIndexer, rf])\n",
    "\n",
    "paramGrid_rf = ParamGridBuilder() \\\n",
    "    .addGrid(rf.numTrees,[10, 30]) \\\n",
    "    .build()\n",
    "\n",
    "\n",
    "crossval_rf = CrossValidator(estimator=pipeline_rf,\n",
    "                          estimatorParamMaps=paramGrid_rf,\n",
    "                          evaluator=BinaryClassificationEvaluator(),\n",
    "                          numFolds=3)"
   ]
  },
  {
   "cell_type": "code",
   "execution_count": 276,
   "metadata": {},
   "outputs": [],
   "source": [
    "cvModel_rf = crossval_rf.fit(train)"
   ]
  },
  {
   "cell_type": "code",
   "execution_count": 300,
   "metadata": {},
   "outputs": [
    {
     "data": {
      "text/plain": [
       "[0.6427128427128427, 0.6212713873428158]"
      ]
     },
     "execution_count": 300,
     "metadata": {},
     "output_type": "execute_result"
    }
   ],
   "source": [
    "cvModel_rf.avgMetrics"
   ]
  },
  {
   "cell_type": "code",
   "execution_count": 307,
   "metadata": {},
   "outputs": [],
   "source": [
    "results_rf = cvModel_rf.transform(test)"
   ]
  },
  {
   "cell_type": "code",
   "execution_count": 308,
   "metadata": {},
   "outputs": [
    {
     "name": "stdout",
     "output_type": "stream",
     "text": [
      "F1 Score of Random Forest: 0.8703703703703703\n"
     ]
    }
   ],
   "source": [
    "print(\"F1 Score of Random Forest:\", BinaryClassificationEvaluator().evaluate(results_rf))"
   ]
  },
  {
   "cell_type": "markdown",
   "metadata": {},
   "source": [
    "# Final Steps\n",
    "Clean up your code, adding comments and renaming variables to make the code easier to read and maintain. Refer to the Spark Project Overview page and Data Scientist Capstone Project Rubric to make sure you are including all components of the capstone project and meet all expectations. Remember, this includes thorough documentation in a README file in a Github repository, as well as a web app or blog post."
   ]
  },
  {
   "cell_type": "code",
   "execution_count": null,
   "metadata": {},
   "outputs": [],
   "source": []
  }
 ],
 "metadata": {
  "kernelspec": {
   "display_name": "Python 3",
   "language": "python",
   "name": "python3"
  },
  "language_info": {
   "codemirror_mode": {
    "name": "ipython",
    "version": 3
   },
   "file_extension": ".py",
   "mimetype": "text/x-python",
   "name": "python",
   "nbconvert_exporter": "python",
   "pygments_lexer": "ipython3",
   "version": "3.6.3"
  }
 },
 "nbformat": 4,
 "nbformat_minor": 2
}
